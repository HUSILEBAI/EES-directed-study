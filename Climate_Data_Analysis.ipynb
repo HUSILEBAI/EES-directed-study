{
  "nbformat": 4,
  "nbformat_minor": 0,
  "metadata": {
    "colab": {
      "provenance": [],
      "toc_visible": true,
      "authorship_tag": "ABX9TyPwwF5cWhdd/aszuQCAkFXV",
      "include_colab_link": true
    },
    "kernelspec": {
      "name": "python3",
      "display_name": "Python 3"
    },
    "language_info": {
      "name": "python"
    }
  },
  "cells": [
    {
      "cell_type": "markdown",
      "metadata": {
        "id": "view-in-github",
        "colab_type": "text"
      },
      "source": [
        "<a href=\"https://colab.research.google.com/github/HUSILEBAI/EES-directed-study/blob/main/Climate_Data_Analysis.ipynb\" target=\"_parent\"><img src=\"https://colab.research.google.com/assets/colab-badge.svg\" alt=\"Open In Colab\"/></a>"
      ]
    },
    {
      "cell_type": "markdown",
      "source": [
        "# Section 1"
      ],
      "metadata": {
        "id": "Lb0lGzb-bstE"
      }
    },
    {
      "cell_type": "markdown",
      "source": [
        "This is the practise code for climate data analysis. Start with connecting your Google Drive."
      ],
      "metadata": {
        "id": "-yG8Y8MwbJRd"
      }
    },
    {
      "cell_type": "code",
      "execution_count": null,
      "metadata": {
        "id": "__ei3HcUa-M7"
      },
      "outputs": [],
      "source": [
        "from google.colab import drive\n",
        "drive.mount('/content/drive')"
      ]
    },
    {
      "cell_type": "markdown",
      "source": [
        "Here, we'll use [Hadley Centre Sea Ice and Sea Surface Temperature data set (HadISST)](https://www.metoffice.gov.uk/hadobs/hadisst/)"
      ],
      "metadata": {
        "id": "6QZFw_QvbbWH"
      }
    },
    {
      "cell_type": "markdown",
      "source": [
        "## Download data"
      ],
      "metadata": {
        "id": "BICgQ23GbzUJ"
      }
    },
    {
      "cell_type": "code",
      "source": [
        "!curl -O -C - https://www.metoffice.gov.uk/hadobs/hadisst/data/HadISST_sst.nc.gz\n",
        "# Extract the data\n",
        "!gunzip HadISST_sst.nc.gz"
      ],
      "metadata": {
        "id": "SPLgECU0bb13"
      },
      "execution_count": null,
      "outputs": []
    },
    {
      "cell_type": "markdown",
      "source": [
        "## Read data"
      ],
      "metadata": {
        "id": "Sb6HpSklb4pI"
      }
    },
    {
      "cell_type": "code",
      "source": [
        "sst_file = f\"HadISST_sst.nc\"\n",
        "sst_dat = xr.open_dataset(sst_file)\n",
        "sst_dat"
      ],
      "metadata": {
        "id": "O-7Rp442bhQU"
      },
      "execution_count": null,
      "outputs": []
    },
    {
      "cell_type": "markdown",
      "source": [
        "## Extract data"
      ],
      "metadata": {
        "id": "5xlttkRycAN9"
      }
    },
    {
      "cell_type": "code",
      "source": [
        "# Reverse the latitude dimension\n",
        "sst_dat_reversed_lat = sst_dat.isel(latitude=slice(None, None, -1))\n",
        "sst = sst_dat_reversed_lat.sst\n",
        "print(f\"Shape of the SST is {sst}\")"
      ],
      "metadata": {
        "id": "7PpjWxbobkF-"
      },
      "execution_count": null,
      "outputs": []
    },
    {
      "cell_type": "markdown",
      "source": [],
      "metadata": {
        "id": "h_TYdd-tboK7"
      }
    }
  ]
}