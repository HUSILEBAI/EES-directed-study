{
  "nbformat": 4,
  "nbformat_minor": 0,
  "metadata": {
    "colab": {
      "provenance": [],
      "toc_visible": true,
      "authorship_tag": "ABX9TyP99t0Xrxr8dkH6O49EeopK",
      "include_colab_link": true
    },
    "kernelspec": {
      "name": "python3",
      "display_name": "Python 3"
    },
    "language_info": {
      "name": "python"
    }
  },
  "cells": [
    {
      "cell_type": "markdown",
      "metadata": {
        "id": "view-in-github",
        "colab_type": "text"
      },
      "source": [
        "<a href=\"https://colab.research.google.com/github/HUSILEBAI/EES-directed-study/blob/main/Climate_Data_Analysis.ipynb\" target=\"_parent\"><img src=\"https://colab.research.google.com/assets/colab-badge.svg\" alt=\"Open In Colab\"/></a>"
      ]
    },
    {
      "cell_type": "markdown",
      "source": [
        "# Section 1"
      ],
      "metadata": {
        "id": "Lb0lGzb-bstE"
      }
    },
    {
      "cell_type": "markdown",
      "source": [
        "This is the practise code for climate data analysis. Start with connecting your Google Drive."
      ],
      "metadata": {
        "id": "-yG8Y8MwbJRd"
      }
    },
    {
      "cell_type": "code",
      "execution_count": 1,
      "metadata": {
        "id": "__ei3HcUa-M7",
        "colab": {
          "base_uri": "https://localhost:8080/"
        },
        "outputId": "53a1efcb-7d3f-4cd6-a8e2-9821a577a4b3"
      },
      "outputs": [
        {
          "output_type": "stream",
          "name": "stdout",
          "text": [
            "Mounted at /content/drive\n"
          ]
        }
      ],
      "source": [
        "from google.colab import drive\n",
        "drive.mount('/content/drive')"
      ]
    },
    {
      "cell_type": "markdown",
      "source": [
        "Here, we'll use [Hadley Centre Sea Ice and Sea Surface Temperature data set (HadISST)](https://www.metoffice.gov.uk/hadobs/hadisst/)"
      ],
      "metadata": {
        "id": "6QZFw_QvbbWH"
      }
    },
    {
      "cell_type": "markdown",
      "source": [
        "## Download data"
      ],
      "metadata": {
        "id": "BICgQ23GbzUJ"
      }
    },
    {
      "cell_type": "code",
      "source": [
        "!curl -O -C - https://www.metoffice.gov.uk/hadobs/hadisst/data/HadISST_sst.nc.gz\n",
        "# Extract the data\n",
        "!gunzip HadISST_sst.nc.gz"
      ],
      "metadata": {
        "id": "SPLgECU0bb13"
      },
      "execution_count": null,
      "outputs": []
    },
    {
      "cell_type": "markdown",
      "source": [
        "## Read data"
      ],
      "metadata": {
        "id": "Sb6HpSklb4pI"
      }
    },
    {
      "cell_type": "code",
      "source": [
        "sst_file = f\"HadISST_sst.nc\"\n",
        "sst_dat = xr.open_dataset(sst_file)\n",
        "sst_dat"
      ],
      "metadata": {
        "id": "O-7Rp442bhQU"
      },
      "execution_count": null,
      "outputs": []
    },
    {
      "cell_type": "markdown",
      "source": [
        "## Extract data"
      ],
      "metadata": {
        "id": "5xlttkRycAN9"
      }
    },
    {
      "cell_type": "code",
      "source": [
        "# Reverse the latitude dimension\n",
        "sst_dat_reversed_lat = sst_dat.isel(latitude=slice(None, None, -1))\n",
        "sst = sst_dat_reversed_lat.sst\n",
        "print(f\"Shape of the SST is {sst}\")"
      ],
      "metadata": {
        "id": "7PpjWxbobkF-"
      },
      "execution_count": null,
      "outputs": []
    },
    {
      "cell_type": "markdown",
      "source": [
        "\n",
        "### Compute the index based on the NCAR climate data guide, you can find it here [Nino SST Indices (Nino 1+2, 3, 3.4, 4; ONI and TNI)](https://climatedataguide.ucar.edu/climate-data/nino-sst-indices-nino-12-3-34-4-oni-and-tni)\n",
        "\n",
        "Niño 3.4 (5N-5S, 170W-120W):  The  Niño 3.4 anomalies may be thought of as representing the average equatorial SSTs across the Pacific from about the dateline to the South American coast.  The Niño 3.4 index typically uses a 5-month running mean, and El Niño or La  Niña events are defined when the  Niño 3.4 SSTs exceed +/- 0.4C for a period of six months or more.\n",
        "\n",
        "<button style=\"background-color: #f0f0f0; border: 1px solid #ccc; padding: 20px 30px; border-radius: 10px; cursor: pointer; font-size: 16px;\">lat_lim = [-5, 5]</button>\n",
        "<button style=\"background-color: #f0f0f0; border: 1px solid #ccc; padding: 20px 30px; border-radius: 10px; cursor: pointer; font-size: 16px;\">lon_lim = [-170, -120]</button>\n",
        "\n"
      ],
      "metadata": {
        "id": "h_TYdd-tboK7"
      }
    },
    {
      "cell_type": "code",
      "source": [],
      "metadata": {
        "id": "57a5pF6Fj8Hs"
      },
      "execution_count": null,
      "outputs": []
    }
  ]
}